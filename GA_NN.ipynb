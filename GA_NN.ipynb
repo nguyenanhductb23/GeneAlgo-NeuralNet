{
  "cells": [
    {
      "cell_type": "markdown",
      "metadata": {
        "id": "view-in-github",
        "colab_type": "text"
      },
      "source": [
        "<a href=\"https://colab.research.google.com/github/nguyenanhductb23/GeneAlgo-NeuralNet/blob/main/GA_NN.ipynb\" target=\"_parent\"><img src=\"https://colab.research.google.com/assets/colab-badge.svg\" alt=\"Open In Colab\"/></a>"
      ]
    },
    {
      "cell_type": "markdown",
      "source": [
        "# Giới thiệu\n",
        "\n",
        "Notebook này là phần thực nghiệm trong bài tập lớn môn Tối ưu hoá với chủ đề \"**Thuật toán di truyền trong tối ưu siêu tham số mạng neural**\" của nhóm sinh viên Đặng Thành Trung - Nguyễn Anh Đức.\n",
        "\n",
        "Thuật toán được minh hoạ trên mạng neural có 2 tầng ẩn. Bộ dữ liệu được sử dụng là bộ hình ảnh chữ số viết tay MNIST."
      ],
      "metadata": {
        "id": "KHZO3Q2lExs7"
      }
    },
    {
      "cell_type": "markdown",
      "metadata": {
        "id": "Cce72KArn7Ql"
      },
      "source": [
        "# Import thư viện"
      ]
    },
    {
      "cell_type": "code",
      "execution_count": null,
      "metadata": {
        "id": "iFLFOTWG6_lt"
      },
      "outputs": [],
      "source": [
        "import numpy as np\n",
        "import random\n",
        "import math\n",
        "import tensorflow as tf\n",
        "from tensorflow.keras.datasets import mnist"
      ]
    },
    {
      "cell_type": "markdown",
      "metadata": {
        "id": "gnZmVQji7HNK"
      },
      "source": [
        "# Load và tiền xử lý dữ liệu"
      ]
    },
    {
      "cell_type": "code",
      "execution_count": null,
      "metadata": {
        "id": "sNMtKnVq7K1N",
        "colab": {
          "base_uri": "https://localhost:8080/"
        },
        "outputId": "d16bc593-f8df-454f-e9e2-47643abe863e"
      },
      "outputs": [
        {
          "output_type": "stream",
          "name": "stdout",
          "text": [
            "Downloading data from https://storage.googleapis.com/tensorflow/tf-keras-datasets/mnist.npz\n",
            "11490434/11490434 [==============================] - 0s 0us/step\n"
          ]
        }
      ],
      "source": [
        "# Load the MNIST dataset\n",
        "(x_train, y_train), (x_test, y_test) = mnist.load_data()\n",
        "\n",
        "# Preprocess the data\n",
        "x_train = x_train.astype('float32') / 255.\n",
        "x_test = x_test.astype('float32') / 255.\n",
        "y_train = tf.keras.utils.to_categorical(y_train, 10)\n",
        "y_test = tf.keras.utils.to_categorical(y_test, 10)\n",
        "x_train = np.reshape(x_train, (60000, 784))\n",
        "x_test = np.reshape(x_test, (10000, 784))"
      ]
    },
    {
      "cell_type": "code",
      "source": [
        "# Ví dụ về 1 ảnh:\n",
        "import matplotlib.pyplot as plt\n",
        "plt.imshow(np.reshape(x_test[1],(28,28)), cmap='gray_r')"
      ],
      "metadata": {
        "colab": {
          "base_uri": "https://localhost:8080/",
          "height": 282
        },
        "id": "YIeS0UZPztXi",
        "outputId": "4a10f8ae-d93c-43f8-fa3e-1c180e99649a"
      },
      "execution_count": null,
      "outputs": [
        {
          "output_type": "execute_result",
          "data": {
            "text/plain": [
              "<matplotlib.image.AxesImage at 0x7f76b4f57be0>"
            ]
          },
          "metadata": {},
          "execution_count": 43
        },
        {
          "output_type": "display_data",
          "data": {
            "text/plain": [
              "<Figure size 432x288 with 1 Axes>"
            ],
            "image/png": "[encoded data removed]"
          },
          "metadata": {
            "needs_background": "light"
          }
        }
      ]
    },
    {
      "cell_type": "markdown",
      "metadata": {
        "id": "mFuEje8qrCKz"
      },
      "source": [
        "# Bước 1: Chọn cấu trúc nhiễm sắc thể biễu diễn lời giải của bài toán"
      ]
    },
    {
      "cell_type": "code",
      "execution_count": null,
      "metadata": {
        "id": "6U0UAGrk7Vp4"
      },
      "outputs": [],
      "source": [
        "# Names of the hyperparameters\n",
        "names = ['hidden_layer_1_size', 'dropout_1', 'hidden_layer_2_size', 'dropout_2', 'learning_rate', 'batch_size']"
      ]
    },
    {
      "cell_type": "markdown",
      "source": [
        "Cấu trúc NST: Dãy gồm 6 siêu tham số gồm:\n",
        "\n",
        "- `'hidden_layer_1_size'`: số nguyên, trong khoảng từ 0 đến 200 \n",
        "\n",
        "- `'dropout_1'`: số thực, trong khoảng 0 đến 1\n",
        "\n",
        "- `'hidden_layer_2_size'`: số nguyên, trong khoảng từ 0 đến 100\n",
        "\n",
        "- `'dropout_2'`: số thực, trong khoảng 0 đến 1\n",
        "\n",
        "- `'learning_rate'`: số thực, trong khoảng từ 0 đến 0.002 \n",
        "\n",
        "- `'batch_size'`: số nguyên, trong khoảng từ 0 đến 256\n",
        "\n",
        "Ví dụ: \n",
        "\n",
        "` [ hidden_layer_1_size : 130 , dropout_1 : 0.16197944240571338 , hidden_layer_2_size : 19 , dropout_2 : 0.6066713282649048 ,` \n",
        "`learning_rate : 0.0011186794632032455 , batch_size : 130 ]`\n",
        "\n"
      ],
      "metadata": {
        "id": "ARW60i8n-gA2"
      }
    },
    {
      "cell_type": "markdown",
      "metadata": {
        "id": "4zRfuaw1rV8P"
      },
      "source": [
        "# Bước 2. Khởi tạo tập lời giải ban đầu"
      ]
    },
    {
      "cell_type": "code",
      "execution_count": null,
      "metadata": {
        "id": "dZrJLhqC7sty"
      },
      "outputs": [],
      "source": [
        "population = []\n",
        "init_population_size = 20\n",
        "\n",
        "for i in range(init_population_size):\n",
        "    params = np.random.uniform(low=0.0, high=1.0, size=6)\n",
        "    params[0] *= 200 # Scale the hidden_layer_1_size\n",
        "    params[2] *= 100 # Scale the hidden_layer_2_size\n",
        "    params[4] *= 0.002  # Scale the learning rate\n",
        "    params[5] *= 256  # Scale the batch size\n",
        "    population.append(params)"
      ]
    },
    {
      "cell_type": "markdown",
      "metadata": {
        "id": "XyMZittPseJp"
      },
      "source": [
        "# Bước 3. Chọn hàm đánh giá mức độ tốt của lời giải"
      ]
    },
    {
      "cell_type": "code",
      "execution_count": null,
      "metadata": {
        "id": "7XChoLhWn8De"
      },
      "outputs": [],
      "source": [
        "def fitness_function(params):\n",
        "    # Kiến trúc mạng neural\n",
        "    model = tf.keras.models.Sequential([\n",
        "        tf.keras.layers.Dense(int(params[0]), activation='relu', input_shape=(784,)),\n",
        "        tf.keras.layers.Dropout(params[1]),\n",
        "        tf.keras.layers.Dense(int(params[2]), activation='relu'),\n",
        "        tf.keras.layers.Dropout(params[3]),\n",
        "        tf.keras.layers.Dense(10, activation='softmax')\n",
        "    ])\n",
        "    \n",
        "    model.compile(optimizer=tf.keras.optimizers.Adam(learning_rate=min(abs(params[4]),0.1)),\n",
        "                  loss='categorical_crossentropy', metrics=['accuracy'])\n",
        "    \n",
        "    # Train + Evaluate\n",
        "    model.fit(x_train, y_train, epochs=5, batch_size=int(params[5]), verbose=0)\n",
        "    loss, accuracy = model.evaluate(x_test, y_test, verbose=0)\n",
        "\n",
        "\n",
        "print('Model with [', names[0], ':', int(params[0]), ',', names[1], ':', params[1], ',',\n",
        "           names[2], ':', int(params[2]), ',', names[3], ':', params[3], ',',\n",
        "           names[4], ':', params[4], ',', names[5], ':', int(params[5]), ']:\\n',\n",
        "            'Accuracy:', accuracy)\n",
        "    \n",
        "    return accuracy"
      ]
    },
    {
      "cell_type": "markdown",
      "metadata": {
        "id": "4afHGRIwsp5S"
      },
      "source": [
        "# Bước 4. Thiết kế các toán tử di truyền\n"
      ]
    },
    {
      "cell_type": "markdown",
      "source": [
        "## Thủ tục chọn lọc"
      ],
      "metadata": {
        "id": "JwREP4OWgG-W"
      }
    },
    {
      "cell_type": "code",
      "source": [
        "def roulette_wheel_selection(fitness_scores):\n",
        "    min_fitness = min(fitness_scores)\n",
        "    fitness_scores1 = []\n",
        "    for i in range(len(fitness_scores)):\n",
        "        fitness_scores1.append(fitness_scores[i] - min_fitness)\n",
        "    total_fitness = sum(fitness_scores1)\n",
        "\n",
        "    # Tính tổng tích lũy điểm số\n",
        "    cumulative_fitness = [sum(fitness_scores1[:i+1])/total_fitness \n",
        "                            for i in range(len(fitness_scores))]\n",
        "    # Lựa chọn một vị trí ngẫu nhiên dựa trên tổng tích lũy\n",
        "    r = random.random()\n",
        "    for i in range(len(cumulative_fitness)):\n",
        "        if r < cumulative_fitness[i]:\n",
        "            return i"
      ],
      "metadata": {
        "id": "Xf8Ssz-OgGTD"
      },
      "execution_count": null,
      "outputs": []
    },
    {
      "cell_type": "markdown",
      "source": [
        "## Toán tử tương giao chéo"
      ],
      "metadata": {
        "id": "RmOvRS7Ip11f"
      }
    },
    {
      "cell_type": "code",
      "source": [
        "def crossover(parent1, parent2, crossover_rate):\n",
        "    child = parent1.copy()\n",
        "    for j in range(len(child)):\n",
        "        if random.random() < crossover_rate:\n",
        "            child[j] = parent2[j]\n",
        "    return child"
      ],
      "metadata": {
        "id": "heih44JgqAGG"
      },
      "execution_count": null,
      "outputs": []
    },
    {
      "cell_type": "markdown",
      "source": [
        "## Toán tử biến dị"
      ],
      "metadata": {
        "id": "76tzx1B9gLTU"
      }
    },
    {
      "cell_type": "code",
      "source": [
        "def mutate(individual, mutation_rate):\n",
        "    for i in range(len(individual)):\n",
        "        if random.random() < mutation_rate:\n",
        "            individual[i] = abs(random.normalvariate\n",
        "                                   (individual[i], 0.1*individual[i]))\n",
        "    return individual"
      ],
      "metadata": {
        "id": "YClwA0YogMZD"
      },
      "execution_count": null,
      "outputs": []
    },
    {
      "cell_type": "markdown",
      "source": [
        "# Bước 5: Xác định các tham số cho bài toán"
      ],
      "metadata": {
        "id": "wxMo0OEEqwZ_"
      }
    },
    {
      "cell_type": "code",
      "execution_count": null,
      "metadata": {
        "id": "xHZozHHQsmnx"
      },
      "outputs": [],
      "source": [
        "population_size = 15\n",
        "crossover_rate = 0.8\n",
        "mutation_rate = 0.1\n",
        "generations = 4"
      ]
    },
    {
      "cell_type": "markdown",
      "source": [
        "# Quá trình tiến hoá"
      ],
      "metadata": {
        "id": "fPJ9Xy3osFBW"
      }
    },
    {
      "cell_type": "code",
      "execution_count": null,
      "metadata": {
        "colab": {
          "base_uri": "https://localhost:8080/"
        },
        "outputId": "612fbccf-dd6b-4ae4-cb90-3a55b26620fd",
        "id": "oqhjns6rs-_8"
      },
      "outputs": [
        {
          "output_type": "stream",
          "name": "stdout",
          "text": [
            "GENERATION 0\n",
            "Model with [ hidden_layer_1_size : 154 , dropout_1 : 0.8941046964130716 , hidden_layer_2_size : 32 , dropout_2 : 0.8373702870741396 , learning_rate : 0.0006712483783370431 , batch_size : 153 ]:\n",
            " Accuracy:  0.8086000084877014\n",
            "Model with [ hidden_layer_1_size : 11 , dropout_1 : 0.5072520776473347 , hidden_layer_2_size : 87 , dropout_2 : 0.9921409071846675 , learning_rate : 0.001356675481209571 , batch_size : 176 ]:\n",
            " Accuracy:  0.11349999904632568\n",
            "Model with [ hidden_layer_1_size : 26 , dropout_1 : 0.057745181205076435 , hidden_layer_2_size : 20 , dropout_2 : 0.7974346167604696 , learning_rate : 0.0014003355768476267 , batch_size : 114 ]:\n",
            " Accuracy:  0.9302999973297119\n",
            "Model with [ hidden_layer_1_size : 183 , dropout_1 : 0.5700152782085914 , hidden_layer_2_size : 10 , dropout_2 : 0.10163010278578755 , learning_rate : 0.00032497263243530994 , batch_size : 139 ]:\n",
            " Accuracy:  0.9452000260353088\n",
            "Model with [ hidden_layer_1_size : 134 , dropout_1 : 0.6118608931154854 , hidden_layer_2_size : 54 , dropout_2 : 0.7863518651700038 , learning_rate : 0.0014543643537477567 , batch_size : 77 ]:\n",
            " Accuracy:  0.9448999762535095\n",
            "Model with [ hidden_layer_1_size : 199 , dropout_1 : 0.3543321289502658 , hidden_layer_2_size : 6 , dropout_2 : 0.5571125590464279 , learning_rate : 0.0006451557864648064 , batch_size : 104 ]:\n",
            " Accuracy:  0.9477999806404114\n",
            "Model with [ hidden_layer_1_size : 111 , dropout_1 : 0.8039940735062062 , hidden_layer_2_size : 87 , dropout_2 : 0.34167716528734315 , learning_rate : 0.0012739614614748962 , batch_size : 130 ]:\n",
            " Accuracy:  0.9380000233650208\n",
            "Model with [ hidden_layer_1_size : 177 , dropout_1 : 0.9562140041744939 , hidden_layer_2_size : 22 , dropout_2 : 0.9233261205030041 , learning_rate : 0.0019380629169444047 , batch_size : 84 ]:\n",
            " Accuracy:  0.11349999904632568\n",
            "Model with [ hidden_layer_1_size : 129 , dropout_1 : 0.2945380108813913 , hidden_layer_2_size : 96 , dropout_2 : 0.57575062330575 , learning_rate : 0.0012633589475036066 , batch_size : 121 ]:\n",
            " Accuracy:  0.9735000133514404\n",
            "Model with [ hidden_layer_1_size : 10 , dropout_1 : 0.851108207689089 , hidden_layer_2_size : 77 , dropout_2 : 0.7228267066177526 , learning_rate : 0.0003817984240743304 , batch_size : 154 ]:\n",
            " Accuracy:  0.44429999589920044\n",
            "Model with [ hidden_layer_1_size : 38 , dropout_1 : 0.9831042909217532 , hidden_layer_2_size : 64 , dropout_2 : 0.9098675674615547 , learning_rate : 0.0009266449786380025 , batch_size : 210 ]:\n",
            " Accuracy:  0.11349999904632568\n",
            "Model with [ hidden_layer_1_size : 182 , dropout_1 : 0.2614455909162934 , hidden_layer_2_size : 64 , dropout_2 : 0.7488784778853821 , learning_rate : 0.0011100042972566726 , batch_size : 26 ]:\n",
            " Accuracy:  0.9695000052452087\n",
            "Model with [ hidden_layer_1_size : 138 , dropout_1 : 0.6740035748807479 , hidden_layer_2_size : 84 , dropout_2 : 0.7089023416461562 , learning_rate : 0.001602307329380008 , batch_size : 220 ]:\n",
            " Accuracy:  0.9470999836921692\n",
            "Model with [ hidden_layer_1_size : 22 , dropout_1 : 0.8843036654879025 , hidden_layer_2_size : 52 , dropout_2 : 0.7024796315842003 , learning_rate : 0.0012510261361336854 , batch_size : 189 ]:\n",
            " Accuracy:  0.5611000061035156\n",
            "Model with [ hidden_layer_1_size : 130 , dropout_1 : 0.16197944240571338 , hidden_layer_2_size : 19 , dropout_2 : 0.6066713282649048 , learning_rate : 0.0011186794632032455 , batch_size : 130 ]:\n",
            " Accuracy:  0.9635999798774719\n",
            "GENERATION 1\n",
            "Model with [ hidden_layer_1_size : 129 , dropout_1 : 0.3543321289502658 , hidden_layer_2_size : 96 , dropout_2 : 0.5639380497726091 , learning_rate : 0.0012633589475036066 , batch_size : 104 ]:\n",
            " Accuracy:  0.968999981880188\n",
            "Model with [ hidden_layer_1_size : 199 , dropout_1 : 0.3543321289502658 , hidden_layer_2_size : 6 , dropout_2 : 0.5571125590464279 , learning_rate : 0.0007026179721760541 , batch_size : 104 ]:\n",
            " Accuracy:  0.9506999850273132\n",
            "Model with [ hidden_layer_1_size : 129 , dropout_1 : 0.2945380108813913 , hidden_layer_2_size : 96 , dropout_2 : 0.57575062330575 , learning_rate : 0.0013312232572304278 , batch_size : 114 ]:\n",
            " Accuracy:  0.9732000231742859\n",
            "Model with [ hidden_layer_1_size : 138 , dropout_1 : 0.6740035748807479 , hidden_layer_2_size : 84 , dropout_2 : 0.7089023416461562 , learning_rate : 0.0013267492892085845 , batch_size : 220 ]:\n",
            " Accuracy:  0.9477999806404114\n",
            "Model with [ hidden_layer_1_size : 159 , dropout_1 : 0.5700152782085914 , hidden_layer_2_size : 32 , dropout_2 : 0.10163010278578755 , learning_rate : 0.00032497263243530994 , batch_size : 153 ]:\n",
            " Accuracy:  0.953000009059906\n",
            "Model with [ hidden_layer_1_size : 129 , dropout_1 : 0.27074594604592456 , hidden_layer_2_size : 96 , dropout_2 : 0.57575062330575 , learning_rate : 0.0012633589475036066 , batch_size : 121 ]:\n",
            " Accuracy:  0.9735000133514404\n",
            "Model with [ hidden_layer_1_size : 134 , dropout_1 : 0.6118608931154854 , hidden_layer_2_size : 54 , dropout_2 : 0.7863518651700038 , learning_rate : 0.00033859967454548476 , batch_size : 77 ]:\n",
            " Accuracy:  0.9358999729156494\n",
            "Model with [ hidden_layer_1_size : 22 , dropout_1 : 0.8843036654879025 , hidden_layer_2_size : 52 , dropout_2 : 0.7024796315842003 , learning_rate : 0.0012510261361336854 , batch_size : 216 ]:\n",
            " Accuracy:  0.48350000381469727\n",
            "Model with [ hidden_layer_1_size : 187 , dropout_1 : 0.5700152782085914 , hidden_layer_2_size : 20 , dropout_2 : 0.7974346167604696 , learning_rate : 0.00032497263243530994 , batch_size : 139 ]:\n",
            " Accuracy:  0.9269000291824341\n",
            "Model with [ hidden_layer_1_size : 138 , dropout_1 : 0.8941046964130716 , hidden_layer_2_size : 29 , dropout_2 : 0.8373702870741396 , learning_rate : 0.0006712483783370431 , batch_size : 153 ]:\n",
            " Accuracy:  0.6309000253677368\n",
            "Model with [ hidden_layer_1_size : 22 , dropout_1 : 0.057745181205076435 , hidden_layer_2_size : 20 , dropout_2 : 0.7898319433807203 , learning_rate : 0.0012510261361336854 , batch_size : 189 ]:\n",
            " Accuracy:  0.9247000217437744\n",
            "Model with [ hidden_layer_1_size : 22 , dropout_1 : 0.8843036654879025 , hidden_layer_2_size : 52 , dropout_2 : 0.7024796315842003 , learning_rate : 0.0012510261361336854 , batch_size : 164 ]:\n",
            " Accuracy:  0.4867999851703644\n",
            "Model with [ hidden_layer_1_size : 26 , dropout_1 : 0.057745181205076435 , hidden_layer_2_size : 20 , dropout_2 : 0.7974346167604696 , learning_rate : 0.0014003355768476267 , batch_size : 114 ]:\n",
            " Accuracy:  0.9196000099182129\n",
            "Model with [ hidden_layer_1_size : 130 , dropout_1 : 0.16197944240571338 , hidden_layer_2_size : 19 , dropout_2 : 0.6066713282649048 , learning_rate : 0.0011186794632032455 , batch_size : 130 ]:\n",
            " Accuracy:  0.9623000025749207\n",
            "Model with [ hidden_layer_1_size : 138 , dropout_1 : 0.6740035748807479 , hidden_layer_2_size : 84 , dropout_2 : 0.6662704679760356 , learning_rate : 0.001602307329380008 , batch_size : 130 ]:\n",
            " Accuracy:  0.9509999752044678\n",
            "GENERATION 2\n",
            "Model with [ hidden_layer_1_size : 129 , dropout_1 : 0.2945380108813913 , hidden_layer_2_size : 96 , dropout_2 : 0.7863518651700038 , learning_rate : 0.0013312232572304278 , batch_size : 114 ]:\n",
            " Accuracy:  0.9661999940872192\n",
            "Model with [ hidden_layer_1_size : 22 , dropout_1 : 0.057745181205076435 , hidden_layer_2_size : 18 , dropout_2 : 0.6662704679760356 , learning_rate : 0.001602307329380008 , batch_size : 189 ]:\n",
            " Accuracy:  0.9372000098228455\n",
            "Model with [ hidden_layer_1_size : 133 , dropout_1 : 0.16197944240571338 , hidden_layer_2_size : 96 , dropout_2 : 0.6066713282649048 , learning_rate : 0.0012633589475036066 , batch_size : 130 ]:\n",
            " Accuracy:  0.9733999967575073\n",
            "Model with [ hidden_layer_1_size : 187 , dropout_1 : 0.5700152782085914 , hidden_layer_2_size : 20 , dropout_2 : 0.7974346167604696 , learning_rate : 0.00032497263243530994 , batch_size : 139 ]:\n",
            " Accuracy:  0.9269000291824341\n",
            "Model with [ hidden_layer_1_size : 130 , dropout_1 : 0.16197944240571338 , hidden_layer_2_size : 19 , dropout_2 : 0.6066713282649048 , learning_rate : 0.0011186794632032455 , batch_size : 130 ]:\n",
            " Accuracy:  0.9606999754905701\n",
            "Model with [ hidden_layer_1_size : 138 , dropout_1 : 0.7033020043645252 , hidden_layer_2_size : 54 , dropout_2 : 0.7857847976786934 , learning_rate : 0.00033859967454548476 , batch_size : 130 ]:\n",
            " Accuracy:  0.9218000173568726\n",
            "Model with [ hidden_layer_1_size : 26 , dropout_1 : 0.5700152782085914 , hidden_layer_2_size : 20 , dropout_2 : 0.7974346167604696 , learning_rate : 0.00032497263243530994 , batch_size : 114 ]:\n",
            " Accuracy:  0.8256999850273132\n",
            "Model with [ hidden_layer_1_size : 118 , dropout_1 : 0.16197944240571338 , hidden_layer_2_size : 19 , dropout_2 : 0.6066713282649048 , learning_rate : 0.0011186794632032455 , batch_size : 130 ]:\n",
            " Accuracy:  0.9624000191688538\n",
            "Model with [ hidden_layer_1_size : 22 , dropout_1 : 0.3543321289502658 , hidden_layer_2_size : 20 , dropout_2 : 0.7898319433807203 , learning_rate : 0.0012510261361336854 , batch_size : 189 ]:\n",
            " Accuracy:  0.8644999861717224\n",
            "Model with [ hidden_layer_1_size : 138 , dropout_1 : 0.5700152782085914 , hidden_layer_2_size : 32 , dropout_2 : 0.7089023416461562 , learning_rate : 0.00032497263243530994 , batch_size : 153 ]:\n",
            " Accuracy:  0.9330999851226807\n",
            "Model with [ hidden_layer_1_size : 22 , dropout_1 : 0.057745181205076435 , hidden_layer_2_size : 20 , dropout_2 : 0.7974346167604696 , learning_rate : 0.0012510261361336854 , batch_size : 189 ]:\n",
            " Accuracy:  0.9230999946594238\n",
            "Model with [ hidden_layer_1_size : 199 , dropout_1 : 0.3543321289502658 , hidden_layer_2_size : 6 , dropout_2 : 0.5571125590464279 , learning_rate : 0.0007026179721760541 , batch_size : 104 ]:\n",
            " Accuracy:  0.9520000219345093\n",
            "Model with [ hidden_layer_1_size : 138 , dropout_1 : 0.6740035748807479 , hidden_layer_2_size : 84 , dropout_2 : 0.6662704679760356 , learning_rate : 0.001602307329380008 , batch_size : 130 ]:\n",
            " Accuracy:  0.949400007724762\n",
            "Model with [ hidden_layer_1_size : 130 , dropout_1 : 0.16197944240571338 , hidden_layer_2_size : 19 , dropout_2 : 0.6066713282649048 , learning_rate : 0.0011186794632032455 , batch_size : 139 ]:\n",
            " Accuracy:  0.9628000259399414\n",
            "Model with [ hidden_layer_1_size : 130 , dropout_1 : 0.16197944240571338 , hidden_layer_2_size : 37 , dropout_2 : 0.10163010278578755 , learning_rate : 0.0003041632543333602 , batch_size : 153 ]:\n",
            " Accuracy:  0.9596999883651733\n",
            "GENERATION 3\n",
            "Model with [ hidden_layer_1_size : 199 , dropout_1 : 0.3543321289502658 , hidden_layer_2_size : 6 , dropout_2 : 0.5571125590464279 , learning_rate : 0.0011186794632032455 , batch_size : 104 ]:\n",
            " Accuracy:  0.9552000164985657\n",
            "Model with [ hidden_layer_1_size : 130 , dropout_1 : 0.3543321289502658 , hidden_layer_2_size : 20 , dropout_2 : 0.5610905063162502 , learning_rate : 0.0012510261361336854 , batch_size : 189 ]:\n",
            " Accuracy:  0.9584000110626221\n",
            "Model with [ hidden_layer_1_size : 199 , dropout_1 : 0.3543321289502658 , hidden_layer_2_size : 6 , dropout_2 : 0.5571125590464279 , learning_rate : 0.0008368710850079797 , batch_size : 130 ]:\n",
            " Accuracy:  0.9517999887466431\n",
            "Model with [ hidden_layer_1_size : 187 , dropout_1 : 0.5700152782085914 , hidden_layer_2_size : 54 , dropout_2 : 0.7974346167604696 , learning_rate : 0.00032497263243530994 , batch_size : 139 ]:\n",
            " Accuracy:  0.9336000084877014\n",
            "Model with [ hidden_layer_1_size : 118 , dropout_1 : 0.16197944240571338 , hidden_layer_2_size : 19 , dropout_2 : 0.6066713282649048 , learning_rate : 0.0011186794632032455 , batch_size : 130 ]:\n",
            " Accuracy:  0.9648000001907349\n",
            "Model with [ hidden_layer_1_size : 130 , dropout_1 : 0.16197944240571338 , hidden_layer_2_size : 6 , dropout_2 : 0.6066713282649048 , learning_rate : 0.0007026179721760541 , batch_size : 139 ]:\n",
            " Accuracy:  0.9449999928474426\n",
            "Model with [ hidden_layer_1_size : 138 , dropout_1 : 0.6740035748807479 , hidden_layer_2_size : 84 , dropout_2 : 0.6662704679760356 , learning_rate : 0.001602307329380008 , batch_size : 153 ]:\n",
            " Accuracy:  0.9526000022888184\n",
            "Model with [ hidden_layer_1_size : 126 , dropout_1 : 0.16197944240571338 , hidden_layer_2_size : 20 , dropout_2 : 0.6066713282649048 , learning_rate : 0.0011186794632032455 , batch_size : 130 ]:\n",
            " Accuracy:  0.9638000130653381\n",
            "Model with [ hidden_layer_1_size : 129 , dropout_1 : 0.2945380108813913 , hidden_layer_2_size : 96 , dropout_2 : 0.7863518651700038 , learning_rate : 0.0013312232572304278 , batch_size : 114 ]:\n",
            " Accuracy:  0.9682000279426575\n",
            "Model with [ hidden_layer_1_size : 130 , dropout_1 : 0.7033020043645252 , hidden_layer_2_size : 54 , dropout_2 : 0.7857847976786934 , learning_rate : 0.00033859967454548476 , batch_size : 130 ]:\n",
            " Accuracy:  0.921500027179718\n",
            "Model with [ hidden_layer_1_size : 22 , dropout_1 : 0.16197944240571338 , hidden_layer_2_size : 19 , dropout_2 : 0.7974346167604696 , learning_rate : 0.0012510261361336854 , batch_size : 139 ]:\n",
            " Accuracy:  0.9182999730110168\n",
            "Model with [ hidden_layer_1_size : 187 , dropout_1 : 0.16197944240571338 , hidden_layer_2_size : 37 , dropout_2 : 0.10163010278578755 , learning_rate : 0.0003041632543333602 , batch_size : 153 ]:\n",
            " Accuracy:  0.9661999940872192\n",
            "Model with [ hidden_layer_1_size : 138 , dropout_1 : 0.15777766784697153 , hidden_layer_2_size : 96 , dropout_2 : 0.6066713282649048 , learning_rate : 0.0012633589475036066 , batch_size : 130 ]:\n",
            " Accuracy:  0.9724000096321106\n",
            "Model with [ hidden_layer_1_size : 199 , dropout_1 : 0.16197944240571338 , hidden_layer_2_size : 6 , dropout_2 : 0.10163010278578755 , learning_rate : 0.0007026179721760541 , batch_size : 104 ]:\n",
            " Accuracy:  0.9645000100135803\n",
            "Model with [ hidden_layer_1_size : 130 , dropout_1 : 0.16197944240571338 , hidden_layer_2_size : 20 , dropout_2 : 0.7974346167604696 , learning_rate : 0.0011186794632032455 , batch_size : 139 ]:\n",
            " Accuracy:  0.9569000005722046\n",
            "Model with [ hidden_layer_1_size : 138 , dropout_1 : 0.6740035748807479 , hidden_layer_2_size : 96 , dropout_2 : 0.6662704679760356 , learning_rate : 0.001602307329380008 , batch_size : 101 ]:\n",
            " Accuracy:  0.9528999924659729\n",
            "Model with [ hidden_layer_1_size : 199 , dropout_1 : 0.3543321289502658 , hidden_layer_2_size : 37 , dropout_2 : 0.10163010278578755 , learning_rate : 0.0003041632543333602 , batch_size : 153 ]:\n",
            " Accuracy:  0.9621000289916992\n",
            "Model with [ hidden_layer_1_size : 138 , dropout_1 : 0.15777766784697153 , hidden_layer_2_size : 96 , dropout_2 : 0.6066713282649048 , learning_rate : 0.0012633589475036066 , batch_size : 131 ]:\n",
            " Accuracy:  0.9733999967575073\n",
            "Model with [ hidden_layer_1_size : 187 , dropout_1 : 0.16197944240571338 , hidden_layer_2_size : 37 , dropout_2 : 0.10365126420712624 , learning_rate : 0.0003041632543333602 , batch_size : 153 ]:\n",
            " Accuracy:  0.9631999731063843\n",
            "Model with [ hidden_layer_1_size : 126 , dropout_1 : 0.15777766784697153 , hidden_layer_2_size : 20 , dropout_2 : 0.6066713282649048 , learning_rate : 0.0012633589475036066 , batch_size : 130 ]:\n",
            " Accuracy:  0.9649999737739563\n",
            "Model with [ hidden_layer_1_size : 126 , dropout_1 : 0.16197944240571338 , hidden_layer_2_size : 20 , dropout_2 : 0.6066713282649048 , learning_rate : 0.0011186794632032455 , batch_size : 153 ]:\n",
            " Accuracy:  0.9625999927520752\n",
            "Model with [ hidden_layer_1_size : 199 , dropout_1 : 0.39605239243347634 , hidden_layer_2_size : 6 , dropout_2 : 0.5571125590464279 , learning_rate : 0.0011186794632032455 , batch_size : 104 ]:\n",
            " Accuracy:  0.9435999989509583\n",
            "Model with [ hidden_layer_1_size : 187 , dropout_1 : 0.16197944240571338 , hidden_layer_2_size : 37 , dropout_2 : 0.10163010278578755 , learning_rate : 0.0013312232572304278 , batch_size : 114 ]:\n",
            " Accuracy:  0.9778000116348267\n",
            "Model with [ hidden_layer_1_size : 118 , dropout_1 : 0.16197944240571338 , hidden_layer_2_size : 19 , dropout_2 : 0.6066713282649048 , learning_rate : 0.0003041632543333602 , batch_size : 130 ]:\n",
            " Accuracy:  0.9465000033378601\n",
            "Model with [ hidden_layer_1_size : 138 , dropout_1 : 0.2945380108813913 , hidden_layer_2_size : 96 , dropout_2 : 0.740835946053979 , learning_rate : 0.0013312232572304278 , batch_size : 114 ]:\n",
            " Accuracy:  0.9659000039100647\n",
            "Model with [ hidden_layer_1_size : 130 , dropout_1 : 0.16197944240571338 , hidden_layer_2_size : 20 , dropout_2 : 0.7974346167604696 , learning_rate : 0.0011186794632032455 , batch_size : 139 ]:\n",
            " Accuracy:  0.9563999772071838\n",
            "Model with [ hidden_layer_1_size : 138 , dropout_1 : 0.3543321289502658 , hidden_layer_2_size : 6 , dropout_2 : 0.6066713282649048 , learning_rate : 0.0011186794632032455 , batch_size : 130 ]:\n",
            " Accuracy:  0.946399986743927\n",
            "Model with [ hidden_layer_1_size : 199 , dropout_1 : 0.3543321289502658 , hidden_layer_2_size : 6 , dropout_2 : 0.10163010278578755 , learning_rate : 0.0007026179721760541 , batch_size : 104 ]:\n",
            " Accuracy:  0.9621000289916992\n",
            "Model with [ hidden_layer_1_size : 187 , dropout_1 : 0.1528724523823204 , hidden_layer_2_size : 34 , dropout_2 : 0.5571125590464279 , learning_rate : 0.0003041632543333602 , batch_size : 153 ]:\n",
            " Accuracy:  0.9541000127792358\n",
            "Model with [ hidden_layer_1_size : 187 , dropout_1 : 0.16197944240571338 , hidden_layer_2_size : 44 , dropout_2 : 0.7974346167604696 , learning_rate : 0.0003041632543333602 , batch_size : 153 ]:\n",
            " Accuracy:  0.9466999769210815\n"
          ]
        }
      ],
      "source": [
        "for generation in range(generations):\n",
        "    print('GENERATION', generation)\n",
        "    # Đánh giá độ thích nghi của các cá thể \n",
        "    fitness_scores = [fitness_function(params) for params in population]\n",
        "    \n",
        "    # Lai ghép và biến dị các cá thể đã chọn để tạo ra quần thể mới\n",
        "    new_population = []\n",
        "    for i in range(population_size):\n",
        "        parent1 = population[roulette_wheel_selection(fitness_scores)]\n",
        "        parent2 = population[roulette_wheel_selection(fitness_scores)]\n",
        "        child = crossover(parent1, parent2, crossover_rate)\n",
        "        child = mutate(child, mutation_rate)\n",
        "        new_population.append(child)\n",
        "        \n",
        "    # Thay thế quần thể cũ bằng quần thể mới\n",
        "    population = new_population\n",
        "\n",
        "# Chọn mô hình tốt nhất\n",
        "fitness_scores = [fitness_function(params) for params in population]\n",
        "best_params = population[np.argmax(fitness_scores)]"
      ]
    },
    {
      "cell_type": "markdown",
      "metadata": {
        "id": "sYONEfr1s28v"
      },
      "source": [
        "# Sử dụng mô hình"
      ]
    },
    {
      "cell_type": "code",
      "source": [
        "print('BEST MODEL: ')\n",
        "print('Model with [', names[0], ':', int(best_params[0]), ',', names[1], ':', best_params[1], ',',\n",
        "           names[2], ':', int(best_params[2]), ',', names[3], ':', best_params[3], ',',\n",
        "           names[4], ':', best_params[4], ',', names[5], ':', int(best_params[5]), ']:\\n')\n",
        " \n",
        "model = tf.keras.models.Sequential([\n",
        "tf.keras.layers.Dense(best_params[0], activation='relu', input_shape=(784,)),\n",
        "tf.keras.layers.Dropout(best_params[1]),\n",
        "tf.keras.layers.Dense(best_params[2], activation='relu'),\n",
        "tf.keras.layers.Dropout(best_params[3]),\n",
        "tf.keras.layers.Dense(10, activation='softmax')\n",
        "])\n",
        "model.compile(optimizer=tf.keras.optimizers.Adam(learning_rate=best_params[4]),\n",
        "loss='categorical_crossentropy',\n",
        "metrics=['accuracy'])\n",
        "model.fit(x_train, y_train, epochs=8, batch_size=int(best_params[5]))\n",
        "print(\"Test\")\n",
        "loss, accuracy = model.evaluate(x_test, y_test)\n",
        "print(\"Test accuracy:\", accuracy)"
      ],
      "metadata": {
        "colab": {
          "base_uri": "https://localhost:8080/"
        },
        "id": "EFPqyMZxilWr",
        "outputId": "bbb37497-5090-42c2-a2c5-d2320ddb23d8"
      },
      "execution_count": null,
      "outputs": [
        {
          "output_type": "stream",
          "name": "stdout",
          "text": [
            "BEST MODEL: \n",
            "Model with [ hidden_layer_1_size : 187 , dropout_1 : 0.16197944240571338 , hidden_layer_2_size : 37 , dropout_2 : 0.10163010278578755 , learning_rate : 0.0013312232572304278 , batch_size : 114 ]:\n",
            "\n",
            "Epoch 1/8\n",
            "527/527 [==============================] - 3s 5ms/step - loss: 0.3538 - accuracy: 0.8956\n",
            "Epoch 2/8\n",
            "527/527 [==============================] - 2s 4ms/step - loss: 0.1573 - accuracy: 0.9536\n",
            "Epoch 3/8\n",
            "527/527 [==============================] - 2s 4ms/step - loss: 0.1119 - accuracy: 0.9657\n",
            "Epoch 4/8\n",
            "527/527 [==============================] - 2s 4ms/step - loss: 0.0938 - accuracy: 0.9713\n",
            "Epoch 5/8\n",
            "527/527 [==============================] - 2s 4ms/step - loss: 0.0797 - accuracy: 0.9750\n",
            "Epoch 6/8\n",
            "527/527 [==============================] - 3s 6ms/step - loss: 0.0689 - accuracy: 0.9777\n",
            "Epoch 7/8\n",
            "527/527 [==============================] - 2s 4ms/step - loss: 0.0597 - accuracy: 0.9805\n",
            "Epoch 8/8\n",
            "527/527 [==============================] - 2s 4ms/step - loss: 0.0554 - accuracy: 0.9825\n",
            "Test\n",
            "313/313 [==============================] - 0s 1ms/step - loss: 0.0697 - accuracy: 0.9804\n",
            "Test accuracy: 0.980400025844574\n"
          ]
        }
      ]
    }
  ],
  "metadata": {
    "colab": {
      "provenance": [],
      "include_colab_link": true
    },
    "gpuClass": "standard",
    "kernelspec": {
      "display_name": "Python 3",
      "name": "python3"
    },
    "language_info": {
      "name": "python"
    }
  },
  "nbformat": 4,
  "nbformat_minor": 0
}